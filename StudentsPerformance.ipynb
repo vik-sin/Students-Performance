{
  "nbformat": 4,
  "nbformat_minor": 0,
  "metadata": {
    "colab": {
      "name": "StudentsPerformance.ipynb",
      "provenance": [],
      "collapsed_sections": [],
      "toc_visible": true,
      "authorship_tag": "ABX9TyOvYOFY2tinO/V2GPqxLl+q",
      "include_colab_link": true
    },
    "kernelspec": {
      "name": "python3",
      "display_name": "Python 3"
    }
  },
  "cells": [
    {
      "cell_type": "markdown",
      "metadata": {
        "id": "view-in-github",
        "colab_type": "text"
      },
      "source": [
        "<a href=\"https://colab.research.google.com/github/vik-sin/StudentsPerformance/blob/master/StudentsPerformance.ipynb\" target=\"_parent\"><img src=\"https://colab.research.google.com/assets/colab-badge.svg\" alt=\"Open In Colab\"/></a>"
      ]
    },
    {
      "cell_type": "code",
      "metadata": {
        "id": "Lyk-tT4xGq4m",
        "colab_type": "code",
        "colab": {}
      },
      "source": [
        "import numpy as np\n",
        "import pandas as pd\n",
        "import matplotlib.pyplot as plt\n",
        "import seaborn as sns\n",
        "%matplotlib inline"
      ],
      "execution_count": 0,
      "outputs": []
    },
    {
      "cell_type": "code",
      "metadata": {
        "id": "a1dRhvLSHtSC",
        "colab_type": "code",
        "outputId": "9dd4eae1-7f54-4e67-a694-bfa7ccaa372e",
        "colab": {
          "base_uri": "https://localhost:8080/",
          "height": 195
        }
      },
      "source": [
        "# reading dataset from github\n",
        "df= pd.read_csv(\"https://github.com/vik-sin/StudentsPerformance/raw/master/StudentsPerformance.csv\")\n",
        "df.head()"
      ],
      "execution_count": 71,
      "outputs": [
        {
          "output_type": "execute_result",
          "data": {
            "text/html": [
              "<div>\n",
              "<style scoped>\n",
              "    .dataframe tbody tr th:only-of-type {\n",
              "        vertical-align: middle;\n",
              "    }\n",
              "\n",
              "    .dataframe tbody tr th {\n",
              "        vertical-align: top;\n",
              "    }\n",
              "\n",
              "    .dataframe thead th {\n",
              "        text-align: right;\n",
              "    }\n",
              "</style>\n",
              "<table border=\"1\" class=\"dataframe\">\n",
              "  <thead>\n",
              "    <tr style=\"text-align: right;\">\n",
              "      <th></th>\n",
              "      <th>gender</th>\n",
              "      <th>race/ethnicity</th>\n",
              "      <th>parental level of education</th>\n",
              "      <th>lunch</th>\n",
              "      <th>test preparation course</th>\n",
              "      <th>math score</th>\n",
              "      <th>reading score</th>\n",
              "      <th>writing score</th>\n",
              "    </tr>\n",
              "  </thead>\n",
              "  <tbody>\n",
              "    <tr>\n",
              "      <th>0</th>\n",
              "      <td>female</td>\n",
              "      <td>group B</td>\n",
              "      <td>bachelor's degree</td>\n",
              "      <td>standard</td>\n",
              "      <td>none</td>\n",
              "      <td>72</td>\n",
              "      <td>72</td>\n",
              "      <td>74</td>\n",
              "    </tr>\n",
              "    <tr>\n",
              "      <th>1</th>\n",
              "      <td>female</td>\n",
              "      <td>group C</td>\n",
              "      <td>some college</td>\n",
              "      <td>standard</td>\n",
              "      <td>completed</td>\n",
              "      <td>69</td>\n",
              "      <td>90</td>\n",
              "      <td>88</td>\n",
              "    </tr>\n",
              "    <tr>\n",
              "      <th>2</th>\n",
              "      <td>female</td>\n",
              "      <td>group B</td>\n",
              "      <td>master's degree</td>\n",
              "      <td>standard</td>\n",
              "      <td>none</td>\n",
              "      <td>90</td>\n",
              "      <td>95</td>\n",
              "      <td>93</td>\n",
              "    </tr>\n",
              "    <tr>\n",
              "      <th>3</th>\n",
              "      <td>male</td>\n",
              "      <td>group A</td>\n",
              "      <td>associate's degree</td>\n",
              "      <td>free/reduced</td>\n",
              "      <td>none</td>\n",
              "      <td>47</td>\n",
              "      <td>57</td>\n",
              "      <td>44</td>\n",
              "    </tr>\n",
              "    <tr>\n",
              "      <th>4</th>\n",
              "      <td>male</td>\n",
              "      <td>group C</td>\n",
              "      <td>some college</td>\n",
              "      <td>standard</td>\n",
              "      <td>none</td>\n",
              "      <td>76</td>\n",
              "      <td>78</td>\n",
              "      <td>75</td>\n",
              "    </tr>\n",
              "  </tbody>\n",
              "</table>\n",
              "</div>"
            ],
            "text/plain": [
              "   gender race/ethnicity  ... reading score writing score\n",
              "0  female        group B  ...            72            74\n",
              "1  female        group C  ...            90            88\n",
              "2  female        group B  ...            95            93\n",
              "3    male        group A  ...            57            44\n",
              "4    male        group C  ...            78            75\n",
              "\n",
              "[5 rows x 8 columns]"
            ]
          },
          "metadata": {
            "tags": []
          },
          "execution_count": 71
        }
      ]
    },
    {
      "cell_type": "code",
      "metadata": {
        "id": "Nve5VAm8H3jH",
        "colab_type": "code",
        "colab": {}
      },
      "source": [
        "df= df.rename(columns= {'gender': 'Gender', 'race/ethnicity': 'RaceEthnicity',  'parental level of education': 'ParentalEducation' ,'lunch': 'Lunch' , 'test preparation course': 'TestPrepCourse' , 'math score':'MathsScore', 'reading score': 'ReadingScore' , 'writing score': 'WritingScore'})"
      ],
      "execution_count": 0,
      "outputs": []
    },
    {
      "cell_type": "code",
      "metadata": {
        "id": "oHEV6qyLI3xB",
        "colab_type": "code",
        "outputId": "76b56c68-8a86-42cd-8d1e-1d574eecb515",
        "colab": {
          "base_uri": "https://localhost:8080/",
          "height": 195
        }
      },
      "source": [
        "df.head()"
      ],
      "execution_count": 73,
      "outputs": [
        {
          "output_type": "execute_result",
          "data": {
            "text/html": [
              "<div>\n",
              "<style scoped>\n",
              "    .dataframe tbody tr th:only-of-type {\n",
              "        vertical-align: middle;\n",
              "    }\n",
              "\n",
              "    .dataframe tbody tr th {\n",
              "        vertical-align: top;\n",
              "    }\n",
              "\n",
              "    .dataframe thead th {\n",
              "        text-align: right;\n",
              "    }\n",
              "</style>\n",
              "<table border=\"1\" class=\"dataframe\">\n",
              "  <thead>\n",
              "    <tr style=\"text-align: right;\">\n",
              "      <th></th>\n",
              "      <th>Gender</th>\n",
              "      <th>RaceEthnicity</th>\n",
              "      <th>ParentalEducation</th>\n",
              "      <th>Lunch</th>\n",
              "      <th>TestPrepCourse</th>\n",
              "      <th>MathsScore</th>\n",
              "      <th>ReadingScore</th>\n",
              "      <th>WritingScore</th>\n",
              "    </tr>\n",
              "  </thead>\n",
              "  <tbody>\n",
              "    <tr>\n",
              "      <th>0</th>\n",
              "      <td>female</td>\n",
              "      <td>group B</td>\n",
              "      <td>bachelor's degree</td>\n",
              "      <td>standard</td>\n",
              "      <td>none</td>\n",
              "      <td>72</td>\n",
              "      <td>72</td>\n",
              "      <td>74</td>\n",
              "    </tr>\n",
              "    <tr>\n",
              "      <th>1</th>\n",
              "      <td>female</td>\n",
              "      <td>group C</td>\n",
              "      <td>some college</td>\n",
              "      <td>standard</td>\n",
              "      <td>completed</td>\n",
              "      <td>69</td>\n",
              "      <td>90</td>\n",
              "      <td>88</td>\n",
              "    </tr>\n",
              "    <tr>\n",
              "      <th>2</th>\n",
              "      <td>female</td>\n",
              "      <td>group B</td>\n",
              "      <td>master's degree</td>\n",
              "      <td>standard</td>\n",
              "      <td>none</td>\n",
              "      <td>90</td>\n",
              "      <td>95</td>\n",
              "      <td>93</td>\n",
              "    </tr>\n",
              "    <tr>\n",
              "      <th>3</th>\n",
              "      <td>male</td>\n",
              "      <td>group A</td>\n",
              "      <td>associate's degree</td>\n",
              "      <td>free/reduced</td>\n",
              "      <td>none</td>\n",
              "      <td>47</td>\n",
              "      <td>57</td>\n",
              "      <td>44</td>\n",
              "    </tr>\n",
              "    <tr>\n",
              "      <th>4</th>\n",
              "      <td>male</td>\n",
              "      <td>group C</td>\n",
              "      <td>some college</td>\n",
              "      <td>standard</td>\n",
              "      <td>none</td>\n",
              "      <td>76</td>\n",
              "      <td>78</td>\n",
              "      <td>75</td>\n",
              "    </tr>\n",
              "  </tbody>\n",
              "</table>\n",
              "</div>"
            ],
            "text/plain": [
              "   Gender RaceEthnicity  ... ReadingScore WritingScore\n",
              "0  female       group B  ...           72           74\n",
              "1  female       group C  ...           90           88\n",
              "2  female       group B  ...           95           93\n",
              "3    male       group A  ...           57           44\n",
              "4    male       group C  ...           78           75\n",
              "\n",
              "[5 rows x 8 columns]"
            ]
          },
          "metadata": {
            "tags": []
          },
          "execution_count": 73
        }
      ]
    },
    {
      "cell_type": "code",
      "metadata": {
        "id": "MvjYojToI6CU",
        "colab_type": "code",
        "outputId": "65790b2f-a76c-46bb-bcaa-18fcc05d79b3",
        "colab": {
          "base_uri": "https://localhost:8080/",
          "height": 195
        }
      },
      "source": [
        "data= df.iloc[0: , 5:]\n",
        "data.head()"
      ],
      "execution_count": 74,
      "outputs": [
        {
          "output_type": "execute_result",
          "data": {
            "text/html": [
              "<div>\n",
              "<style scoped>\n",
              "    .dataframe tbody tr th:only-of-type {\n",
              "        vertical-align: middle;\n",
              "    }\n",
              "\n",
              "    .dataframe tbody tr th {\n",
              "        vertical-align: top;\n",
              "    }\n",
              "\n",
              "    .dataframe thead th {\n",
              "        text-align: right;\n",
              "    }\n",
              "</style>\n",
              "<table border=\"1\" class=\"dataframe\">\n",
              "  <thead>\n",
              "    <tr style=\"text-align: right;\">\n",
              "      <th></th>\n",
              "      <th>MathsScore</th>\n",
              "      <th>ReadingScore</th>\n",
              "      <th>WritingScore</th>\n",
              "    </tr>\n",
              "  </thead>\n",
              "  <tbody>\n",
              "    <tr>\n",
              "      <th>0</th>\n",
              "      <td>72</td>\n",
              "      <td>72</td>\n",
              "      <td>74</td>\n",
              "    </tr>\n",
              "    <tr>\n",
              "      <th>1</th>\n",
              "      <td>69</td>\n",
              "      <td>90</td>\n",
              "      <td>88</td>\n",
              "    </tr>\n",
              "    <tr>\n",
              "      <th>2</th>\n",
              "      <td>90</td>\n",
              "      <td>95</td>\n",
              "      <td>93</td>\n",
              "    </tr>\n",
              "    <tr>\n",
              "      <th>3</th>\n",
              "      <td>47</td>\n",
              "      <td>57</td>\n",
              "      <td>44</td>\n",
              "    </tr>\n",
              "    <tr>\n",
              "      <th>4</th>\n",
              "      <td>76</td>\n",
              "      <td>78</td>\n",
              "      <td>75</td>\n",
              "    </tr>\n",
              "  </tbody>\n",
              "</table>\n",
              "</div>"
            ],
            "text/plain": [
              "   MathsScore  ReadingScore  WritingScore\n",
              "0          72            72            74\n",
              "1          69            90            88\n",
              "2          90            95            93\n",
              "3          47            57            44\n",
              "4          76            78            75"
            ]
          },
          "metadata": {
            "tags": []
          },
          "execution_count": 74
        }
      ]
    },
    {
      "cell_type": "markdown",
      "metadata": {
        "id": "PIYpxVkVJ1b0",
        "colab_type": "text"
      },
      "source": [
        "# **Applying Clustering Algorithms**\n",
        "\n",
        "\n",
        "\n"
      ]
    },
    {
      "cell_type": "markdown",
      "metadata": {
        "id": "vHvA2tVhKTWD",
        "colab_type": "text"
      },
      "source": [
        "## 1. K-Means Clustering"
      ]
    },
    {
      "cell_type": "code",
      "metadata": {
        "id": "H85tX-3DKSay",
        "colab_type": "code",
        "colab": {}
      },
      "source": [
        "from sklearn.cluster import KMeans\n",
        "\n",
        "wcss = []\n",
        "kValueRange = range(1,12)\n",
        "for k in kValueRange:\n",
        "    km = KMeans(n_clusters=k, n_init=10)\n",
        "    km.fit(data)\n",
        "    wcss.append(km.inertia_)"
      ],
      "execution_count": 0,
      "outputs": []
    },
    {
      "cell_type": "code",
      "metadata": {
        "id": "thX4smtxJfZa",
        "colab_type": "code",
        "outputId": "5222b5c0-80e7-47dc-8cd6-c0c4c2c41132",
        "colab": {
          "base_uri": "https://localhost:8080/",
          "height": 299
        }
      },
      "source": [
        "plt.xlabel('Value of K')\n",
        "plt.ylabel('Sum of squared distances error')\n",
        "plt.plot(kValueRange,wcss)"
      ],
      "execution_count": 76,
      "outputs": [
        {
          "output_type": "execute_result",
          "data": {
            "text/plain": [
              "[<matplotlib.lines.Line2D at 0x7ff564e76cc0>]"
            ]
          },
          "metadata": {
            "tags": []
          },
          "execution_count": 76
        },
        {
          "output_type": "display_data",
          "data": {
            "image/png": "[encoded data removed]",
            "text/plain": [
              "<Figure size 432x288 with 1 Axes>"
            ]
          },
          "metadata": {
            "tags": [],
            "needs_background": "light"
          }
        }
      ]
    },
    {
      "cell_type": "code",
      "metadata": {
        "id": "GHgwDCJQKstS",
        "colab_type": "code",
        "outputId": "baa1cd22-0cac-44c0-f827-6a2f9fcade74",
        "colab": {
          "base_uri": "https://localhost:8080/",
          "height": 185
        }
      },
      "source": [
        "for i in range(1,len(wcss)):\n",
        "    val= wcss[i]- wcss[i-1]\n",
        "    print((\"%d to %d is %d\")%(i-1, i,-val))"
      ],
      "execution_count": 77,
      "outputs": [
        {
          "output_type": "stream",
          "text": [
            "0 to 1 is 391366\n",
            "1 to 2 is 104457\n",
            "2 to 3 is 41129\n",
            "3 to 4 is 25053\n",
            "4 to 5 is 13585\n",
            "5 to 6 is 11460\n",
            "6 to 7 is 9743\n",
            "7 to 8 is 8178\n",
            "8 to 9 is 6806\n",
            "9 to 10 is 5297\n"
          ],
          "name": "stdout"
        }
      ]
    },
    {
      "cell_type": "code",
      "metadata": {
        "id": "abY_cxc6K1zi",
        "colab_type": "code",
        "outputId": "10b55705-1827-431c-9dfb-7924024701fb",
        "colab": {
          "base_uri": "https://localhost:8080/",
          "height": 67
        }
      },
      "source": [
        "# After k=5, value of squared error is decreasing.\n",
        "# Hence, we are going to use k=5\n",
        "km=KMeans(n_clusters=5, n_init=20)\n",
        "km.fit(data)"
      ],
      "execution_count": 78,
      "outputs": [
        {
          "output_type": "execute_result",
          "data": {
            "text/plain": [
              "KMeans(algorithm='auto', copy_x=True, init='k-means++', max_iter=300,\n",
              "       n_clusters=5, n_init=20, n_jobs=None, precompute_distances='auto',\n",
              "       random_state=None, tol=0.0001, verbose=0)"
            ]
          },
          "metadata": {
            "tags": []
          },
          "execution_count": 78
        }
      ]
    },
    {
      "cell_type": "code",
      "metadata": {
        "id": "V4x5eemMLHxZ",
        "colab_type": "code",
        "outputId": "771e32f2-3ad7-407d-b0e1-3319ffc867ac",
        "colab": {
          "base_uri": "https://localhost:8080/",
          "height": 151
        }
      },
      "source": [
        "print(\"Size of km.labels_ : \",km.labels_.size)\n",
        "print(\"Count of values :\")\n",
        "pd.Series(km.labels_).value_counts()"
      ],
      "execution_count": 79,
      "outputs": [
        {
          "output_type": "stream",
          "text": [
            "Size of km.labels_ :  1000\n",
            "Count of values :\n"
          ],
          "name": "stdout"
        },
        {
          "output_type": "execute_result",
          "data": {
            "text/plain": [
              "3    287\n",
              "2    271\n",
              "4    218\n",
              "0    165\n",
              "1     59\n",
              "dtype: int64"
            ]
          },
          "metadata": {
            "tags": []
          },
          "execution_count": 79
        }
      ]
    },
    {
      "cell_type": "code",
      "metadata": {
        "id": "Ie1S35neV6aN",
        "colab_type": "code",
        "outputId": "2f74fec8-e947-453b-b460-86d5afab139c",
        "colab": {
          "base_uri": "https://localhost:8080/",
          "height": 350
        }
      },
      "source": [
        "#plotting datapoints\n",
        "colors= ['red', 'cyan', 'yellow', 'orange', 'violet']\n",
        "labels= ['Cluster1' ,'Cluster2', 'Cluster3', 'Cluster4','Cluster5']\n",
        "\n",
        "colorLabel= [colors[km.labels_[i]] for i in range(len(km.labels_)) ]\n",
        "\n",
        "plt.figure(figsize=(8,5))\n",
        "plt.scatter(data['MathsScore'], data['ReadingScore'], color= colorLabel,marker='o')\n",
        "\n",
        "#plotting centres of clusters\n",
        "plt.scatter(km.cluster_centers_[:, 0], km.cluster_centers_[:, 1], s=100, c='black', marker='o')\n",
        "plt.title(\"K-Means Clustering\")\n",
        "plt.xlabel(\"Maths Score\")\n",
        "plt.ylabel('Reading Score')\n",
        "plt.show()"
      ],
      "execution_count": 80,
      "outputs": [
        {
          "output_type": "display_data",
          "data": {
            "image/png": "[encoded data removed]",
            "text/plain": [
              "<Figure size 576x360 with 1 Axes>"
            ]
          },
          "metadata": {
            "tags": [],
            "needs_background": "light"
          }
        }
      ]
    },
    {
      "cell_type": "code",
      "metadata": {
        "id": "KrT6UsfmcXUo",
        "colab_type": "code",
        "colab": {}
      },
      "source": [
        ""
      ],
      "execution_count": 0,
      "outputs": []
    },
    {
      "cell_type": "markdown",
      "metadata": {
        "id": "locEBVILfia_",
        "colab_type": "text"
      },
      "source": [
        "## 2. Hierarchical Clustering"
      ]
    },
    {
      "cell_type": "code",
      "metadata": {
        "id": "-rFxsiDIfmdr",
        "colab_type": "code",
        "colab": {}
      },
      "source": [
        "import scipy.cluster.hierarchy as sch"
      ],
      "execution_count": 0,
      "outputs": []
    },
    {
      "cell_type": "code",
      "metadata": {
        "id": "19UK2Usqh3i3",
        "colab_type": "code",
        "outputId": "2d145fdc-51b9-4327-eea3-97896694bc75",
        "colab": {
          "base_uri": "https://localhost:8080/",
          "height": 513
        }
      },
      "source": [
        "plt.figure(figsize=(10,8))\n",
        "dendrogram = sch.dendrogram(sch.linkage(data, method  = \"ward\"))\n",
        "plt.title('Dendrogram')\n",
        "plt.xlabel('Students')\n",
        "plt.ylabel('Euclidean distances')\n",
        "plt.show()"
      ],
      "execution_count": 82,
      "outputs": [
        {
          "output_type": "display_data",
          "data": {
            "image/png": "[encoded data removed]",
            "text/plain": [
              "<Figure size 720x576 with 1 Axes>"
            ]
          },
          "metadata": {
            "tags": [],
            "needs_background": "light"
          }
        }
      ]
    },
    {
      "cell_type": "code",
      "metadata": {
        "id": "sh3fH9xYiH1p",
        "colab_type": "code",
        "colab": {}
      },
      "source": [
        "from sklearn.cluster import AgglomerativeClustering \n",
        "hc = AgglomerativeClustering(n_clusters = 4, affinity = 'euclidean', linkage ='complete')"
      ],
      "execution_count": 0,
      "outputs": []
    },
    {
      "cell_type": "code",
      "metadata": {
        "id": "79hPx8bgiH65",
        "colab_type": "code",
        "outputId": "99ff4e97-f638-4dcc-a560-df9f8ba0392b",
        "colab": {
          "base_uri": "https://localhost:8080/",
          "height": 67
        }
      },
      "source": [
        "hc.fit(data)"
      ],
      "execution_count": 84,
      "outputs": [
        {
          "output_type": "execute_result",
          "data": {
            "text/plain": [
              "AgglomerativeClustering(affinity='euclidean', compute_full_tree='auto',\n",
              "                        connectivity=None, distance_threshold=None,\n",
              "                        linkage='complete', memory=None, n_clusters=4)"
            ]
          },
          "metadata": {
            "tags": []
          },
          "execution_count": 84
        }
      ]
    },
    {
      "cell_type": "code",
      "metadata": {
        "id": "1d3v0q9jiH3W",
        "colab_type": "code",
        "colab": {}
      },
      "source": [
        "y_hc=hc.fit_predict(data)\n",
        "# y_hc"
      ],
      "execution_count": 0,
      "outputs": []
    },
    {
      "cell_type": "code",
      "metadata": {
        "id": "4qYJ23UKiH87",
        "colab_type": "code",
        "outputId": "8382b7b7-e6fc-42e4-8604-000536aabc7b",
        "colab": {
          "base_uri": "https://localhost:8080/",
          "height": 295
        }
      },
      "source": [
        "# Plotting Graph\n",
        "colors= ['blue', 'magenta', 'orange', 'black']\n",
        "labels= ['Cluster1' ,'Cluster2', 'Cluster3', 'Cluster4']\n",
        "\n",
        "colorLabel= [colors[hc.labels_[i]] for i in range(len(hc.labels_)) ]\n",
        "\n",
        "plt.scatter(data['MathsScore'], data['ReadingScore'], color= colorLabel, marker='.')\n",
        "plt.title(\"Hierarchical Clustering\")\n",
        "plt.xlabel(\"Maths Score\")\n",
        "plt.ylabel('Reading Score')\n",
        "plt.show()"
      ],
      "execution_count": 86,
      "outputs": [
        {
          "output_type": "display_data",
          "data": {
            "image/png": "[encoded data removed]",
            "text/plain": [
              "<Figure size 432x288 with 1 Axes>"
            ]
          },
          "metadata": {
            "tags": [],
            "needs_background": "light"
          }
        }
      ]
    },
    {
      "cell_type": "code",
      "metadata": {
        "id": "T7hXB1QLiIAi",
        "colab_type": "code",
        "colab": {}
      },
      "source": [
        ""
      ],
      "execution_count": 0,
      "outputs": []
    },
    {
      "cell_type": "markdown",
      "metadata": {
        "id": "8VoNLfEqlcr2",
        "colab_type": "text"
      },
      "source": [
        "# DBSCAN Clustering"
      ]
    },
    {
      "cell_type": "code",
      "metadata": {
        "id": "btkOSeNMiIDa",
        "colab_type": "code",
        "outputId": "3953b9db-795e-4cc9-eee4-e356e2fbce65",
        "colab": {
          "base_uri": "https://localhost:8080/",
          "height": 50
        }
      },
      "source": [
        "from sklearn.cluster import DBSCAN\n",
        "dbscan = DBSCAN(eps=0.5, metric='euclidean', min_samples=100)\n",
        "dbscan.fit(data)"
      ],
      "execution_count": 87,
      "outputs": [
        {
          "output_type": "execute_result",
          "data": {
            "text/plain": [
              "DBSCAN(algorithm='auto', eps=0.5, leaf_size=30, metric='euclidean',\n",
              "       metric_params=None, min_samples=100, n_jobs=None, p=None)"
            ]
          },
          "metadata": {
            "tags": []
          },
          "execution_count": 87
        }
      ]
    },
    {
      "cell_type": "code",
      "metadata": {
        "id": "EjewK8KGh_v0",
        "colab_type": "code",
        "outputId": "fccaded6-aa80-4d90-99c7-d46f28ebd7d1",
        "colab": {
          "base_uri": "https://localhost:8080/",
          "height": 295
        }
      },
      "source": [
        "colorLabel= [colors[dbscan.labels_[i]] for i in range(len(dbscan.labels_)) ]\n",
        "\n",
        "plt.scatter(data['MathsScore'], data['ReadingScore'], marker='.')\n",
        "plt.title(\"DBSCAN Clustering\")\n",
        "plt.xlabel(\"Maths Score\")\n",
        "plt.ylabel('Reading Score')\n",
        "plt.show()"
      ],
      "execution_count": 88,
      "outputs": [
        {
          "output_type": "display_data",
          "data": {
            "image/png": "[encoded data removed]",
            "text/plain": [
              "<Figure size 432x288 with 1 Axes>"
            ]
          },
          "metadata": {
            "tags": [],
            "needs_background": "light"
          }
        }
      ]
    },
    {
      "cell_type": "markdown",
      "metadata": {
        "id": "QEb1QA1bZ8cv",
        "colab_type": "text"
      },
      "source": [
        "# **Graphs**"
      ]
    },
    {
      "cell_type": "markdown",
      "metadata": {
        "id": "eFLf5X8aaISr",
        "colab_type": "text"
      },
      "source": [
        "## Graph-1: Gender (grouped on the basis of race)"
      ]
    },
    {
      "cell_type": "code",
      "metadata": {
        "id": "hzMAn8G8pxTl",
        "colab_type": "code",
        "outputId": "f34bb772-afc3-4fc6-9088-d072fbd81234",
        "colab": {
          "base_uri": "https://localhost:8080/",
          "height": 195
        }
      },
      "source": [
        "df.head()"
      ],
      "execution_count": 89,
      "outputs": [
        {
          "output_type": "execute_result",
          "data": {
            "text/html": [
              "<div>\n",
              "<style scoped>\n",
              "    .dataframe tbody tr th:only-of-type {\n",
              "        vertical-align: middle;\n",
              "    }\n",
              "\n",
              "    .dataframe tbody tr th {\n",
              "        vertical-align: top;\n",
              "    }\n",
              "\n",
              "    .dataframe thead th {\n",
              "        text-align: right;\n",
              "    }\n",
              "</style>\n",
              "<table border=\"1\" class=\"dataframe\">\n",
              "  <thead>\n",
              "    <tr style=\"text-align: right;\">\n",
              "      <th></th>\n",
              "      <th>Gender</th>\n",
              "      <th>RaceEthnicity</th>\n",
              "      <th>ParentalEducation</th>\n",
              "      <th>Lunch</th>\n",
              "      <th>TestPrepCourse</th>\n",
              "      <th>MathsScore</th>\n",
              "      <th>ReadingScore</th>\n",
              "      <th>WritingScore</th>\n",
              "    </tr>\n",
              "  </thead>\n",
              "  <tbody>\n",
              "    <tr>\n",
              "      <th>0</th>\n",
              "      <td>female</td>\n",
              "      <td>group B</td>\n",
              "      <td>bachelor's degree</td>\n",
              "      <td>standard</td>\n",
              "      <td>none</td>\n",
              "      <td>72</td>\n",
              "      <td>72</td>\n",
              "      <td>74</td>\n",
              "    </tr>\n",
              "    <tr>\n",
              "      <th>1</th>\n",
              "      <td>female</td>\n",
              "      <td>group C</td>\n",
              "      <td>some college</td>\n",
              "      <td>standard</td>\n",
              "      <td>completed</td>\n",
              "      <td>69</td>\n",
              "      <td>90</td>\n",
              "      <td>88</td>\n",
              "    </tr>\n",
              "    <tr>\n",
              "      <th>2</th>\n",
              "      <td>female</td>\n",
              "      <td>group B</td>\n",
              "      <td>master's degree</td>\n",
              "      <td>standard</td>\n",
              "      <td>none</td>\n",
              "      <td>90</td>\n",
              "      <td>95</td>\n",
              "      <td>93</td>\n",
              "    </tr>\n",
              "    <tr>\n",
              "      <th>3</th>\n",
              "      <td>male</td>\n",
              "      <td>group A</td>\n",
              "      <td>associate's degree</td>\n",
              "      <td>free/reduced</td>\n",
              "      <td>none</td>\n",
              "      <td>47</td>\n",
              "      <td>57</td>\n",
              "      <td>44</td>\n",
              "    </tr>\n",
              "    <tr>\n",
              "      <th>4</th>\n",
              "      <td>male</td>\n",
              "      <td>group C</td>\n",
              "      <td>some college</td>\n",
              "      <td>standard</td>\n",
              "      <td>none</td>\n",
              "      <td>76</td>\n",
              "      <td>78</td>\n",
              "      <td>75</td>\n",
              "    </tr>\n",
              "  </tbody>\n",
              "</table>\n",
              "</div>"
            ],
            "text/plain": [
              "   Gender RaceEthnicity  ... ReadingScore WritingScore\n",
              "0  female       group B  ...           72           74\n",
              "1  female       group C  ...           90           88\n",
              "2  female       group B  ...           95           93\n",
              "3    male       group A  ...           57           44\n",
              "4    male       group C  ...           78           75\n",
              "\n",
              "[5 rows x 8 columns]"
            ]
          },
          "metadata": {
            "tags": []
          },
          "execution_count": 89
        }
      ]
    },
    {
      "cell_type": "code",
      "metadata": {
        "id": "861O9vgQammL",
        "colab_type": "code",
        "outputId": "5275d7ec-fbcb-4cb0-c277-a4bbef5e5209",
        "colab": {
          "base_uri": "https://localhost:8080/",
          "height": 195
        }
      },
      "source": [
        "g1= pd.DataFrame(df['RaceEthnicity'].unique())\n",
        "g1.rename(columns= {0:'Race'}, inplace=True)\n",
        "g1"
      ],
      "execution_count": 90,
      "outputs": [
        {
          "output_type": "execute_result",
          "data": {
            "text/html": [
              "<div>\n",
              "<style scoped>\n",
              "    .dataframe tbody tr th:only-of-type {\n",
              "        vertical-align: middle;\n",
              "    }\n",
              "\n",
              "    .dataframe tbody tr th {\n",
              "        vertical-align: top;\n",
              "    }\n",
              "\n",
              "    .dataframe thead th {\n",
              "        text-align: right;\n",
              "    }\n",
              "</style>\n",
              "<table border=\"1\" class=\"dataframe\">\n",
              "  <thead>\n",
              "    <tr style=\"text-align: right;\">\n",
              "      <th></th>\n",
              "      <th>Race</th>\n",
              "    </tr>\n",
              "  </thead>\n",
              "  <tbody>\n",
              "    <tr>\n",
              "      <th>0</th>\n",
              "      <td>group B</td>\n",
              "    </tr>\n",
              "    <tr>\n",
              "      <th>1</th>\n",
              "      <td>group C</td>\n",
              "    </tr>\n",
              "    <tr>\n",
              "      <th>2</th>\n",
              "      <td>group A</td>\n",
              "    </tr>\n",
              "    <tr>\n",
              "      <th>3</th>\n",
              "      <td>group D</td>\n",
              "    </tr>\n",
              "    <tr>\n",
              "      <th>4</th>\n",
              "      <td>group E</td>\n",
              "    </tr>\n",
              "  </tbody>\n",
              "</table>\n",
              "</div>"
            ],
            "text/plain": [
              "      Race\n",
              "0  group B\n",
              "1  group C\n",
              "2  group A\n",
              "3  group D\n",
              "4  group E"
            ]
          },
          "metadata": {
            "tags": []
          },
          "execution_count": 90
        }
      ]
    },
    {
      "cell_type": "code",
      "metadata": {
        "id": "KFvbJHnDjKzg",
        "colab_type": "code",
        "outputId": "5292cbdc-fafd-4ea7-c376-6df563556927",
        "colab": {
          "base_uri": "https://localhost:8080/",
          "height": 34
        }
      },
      "source": [
        "l= [list ( df.loc[df.RaceEthnicity==r,'Gender'].value_counts() ) for r in g1['Race'] ]\n",
        "l"
      ],
      "execution_count": 91,
      "outputs": [
        {
          "output_type": "execute_result",
          "data": {
            "text/plain": [
              "[[104, 86], [180, 139], [53, 36], [133, 129], [71, 69]]"
            ]
          },
          "metadata": {
            "tags": []
          },
          "execution_count": 91
        }
      ]
    },
    {
      "cell_type": "code",
      "metadata": {
        "id": "xgI7al96jK1N",
        "colab_type": "code",
        "colab": {}
      },
      "source": [
        "g2= pd.DataFrame(l)\n",
        "g2.rename(columns= {0:'Male', 1:'Female'}, inplace=True)"
      ],
      "execution_count": 0,
      "outputs": []
    },
    {
      "cell_type": "code",
      "metadata": {
        "id": "2KCeOa8ZjK4v",
        "colab_type": "code",
        "outputId": "6cb663f0-9834-4636-c4ba-01dddec02339",
        "colab": {
          "base_uri": "https://localhost:8080/",
          "height": 195
        }
      },
      "source": [
        "newDf= pd.concat([g1, g2], axis=1)\n",
        "newDf.sort_values(by=\"Race\", inplace=True)\n",
        "newDf.rename(index={2:1, 0:2, 1:3, 3:4, 4:5}, inplace= True)\n",
        "newDf"
      ],
      "execution_count": 93,
      "outputs": [
        {
          "output_type": "execute_result",
          "data": {
            "text/html": [
              "<div>\n",
              "<style scoped>\n",
              "    .dataframe tbody tr th:only-of-type {\n",
              "        vertical-align: middle;\n",
              "    }\n",
              "\n",
              "    .dataframe tbody tr th {\n",
              "        vertical-align: top;\n",
              "    }\n",
              "\n",
              "    .dataframe thead th {\n",
              "        text-align: right;\n",
              "    }\n",
              "</style>\n",
              "<table border=\"1\" class=\"dataframe\">\n",
              "  <thead>\n",
              "    <tr style=\"text-align: right;\">\n",
              "      <th></th>\n",
              "      <th>Race</th>\n",
              "      <th>Male</th>\n",
              "      <th>Female</th>\n",
              "    </tr>\n",
              "  </thead>\n",
              "  <tbody>\n",
              "    <tr>\n",
              "      <th>1</th>\n",
              "      <td>group A</td>\n",
              "      <td>53</td>\n",
              "      <td>36</td>\n",
              "    </tr>\n",
              "    <tr>\n",
              "      <th>2</th>\n",
              "      <td>group B</td>\n",
              "      <td>104</td>\n",
              "      <td>86</td>\n",
              "    </tr>\n",
              "    <tr>\n",
              "      <th>3</th>\n",
              "      <td>group C</td>\n",
              "      <td>180</td>\n",
              "      <td>139</td>\n",
              "    </tr>\n",
              "    <tr>\n",
              "      <th>4</th>\n",
              "      <td>group D</td>\n",
              "      <td>133</td>\n",
              "      <td>129</td>\n",
              "    </tr>\n",
              "    <tr>\n",
              "      <th>5</th>\n",
              "      <td>group E</td>\n",
              "      <td>71</td>\n",
              "      <td>69</td>\n",
              "    </tr>\n",
              "  </tbody>\n",
              "</table>\n",
              "</div>"
            ],
            "text/plain": [
              "      Race  Male  Female\n",
              "1  group A    53      36\n",
              "2  group B   104      86\n",
              "3  group C   180     139\n",
              "4  group D   133     129\n",
              "5  group E    71      69"
            ]
          },
          "metadata": {
            "tags": []
          },
          "execution_count": 93
        }
      ]
    },
    {
      "cell_type": "code",
      "metadata": {
        "id": "O3FQZuQhjK6L",
        "colab_type": "code",
        "outputId": "bf11d5fc-3fcc-4b19-b09d-cbd04c3a851e",
        "colab": {
          "base_uri": "https://localhost:8080/",
          "height": 295
        }
      },
      "source": [
        "plt.bar(newDf['Race'], newDf['Male'], color='blue', label=\"Male\")\n",
        "plt.bar(newDf['Race'], newDf['Female'], color='magenta', label=\"Female\")\n",
        "plt.title(\"Bar Graph: Gender on the basis of Race/Ethnicity\")\n",
        "plt.xlabel(\"Race/Ethnicity\")\n",
        "plt.ylabel(\"Gender\")\n",
        "plt.legend()\n",
        "plt.show()"
      ],
      "execution_count": 94,
      "outputs": [
        {
          "output_type": "display_data",
          "data": {
            "image/png": "[encoded data removed]",
            "text/plain": [
              "<Figure size 432x288 with 1 Axes>"
            ]
          },
          "metadata": {
            "tags": [],
            "needs_background": "light"
          }
        }
      ]
    },
    {
      "cell_type": "code",
      "metadata": {
        "id": "DYNV46_hjK-J",
        "colab_type": "code",
        "outputId": "2dc3d59a-57ba-489a-f27f-e0bff5e86785",
        "colab": {
          "base_uri": "https://localhost:8080/",
          "height": 295
        }
      },
      "source": [
        "plt.plot(newDf['Race'], newDf['Male'], color='blue', label=\"Male\", marker='*', markersize=8)\n",
        "plt.plot(newDf['Race'], newDf['Female'], color='magenta', label=\"Female\", marker='.',markersize=15)\n",
        "plt.title(\"Graph: Gender on the basis of Race/Ethnicity\")\n",
        "plt.xlabel(\"Race/Ethnicity\")\n",
        "plt.ylabel(\"Gender\")\n",
        "plt.legend()\n",
        "plt.show()"
      ],
      "execution_count": 95,
      "outputs": [
        {
          "output_type": "display_data",
          "data": {
            "image/png": "[encoded data removed]",
            "text/plain": [
              "<Figure size 432x288 with 1 Axes>"
            ]
          },
          "metadata": {
            "tags": [],
            "needs_background": "light"
          }
        }
      ]
    },
    {
      "cell_type": "code",
      "metadata": {
        "id": "7Hb9bt2EHVUa",
        "colab_type": "code",
        "colab": {}
      },
      "source": [
        ""
      ],
      "execution_count": 0,
      "outputs": []
    },
    {
      "cell_type": "markdown",
      "metadata": {
        "id": "B26XO88PZFxH",
        "colab_type": "text"
      },
      "source": [
        "## Graph-2: Race (grouped on the basis of Gender)"
      ]
    },
    {
      "cell_type": "code",
      "metadata": {
        "id": "a7uQ2jOAdSkj",
        "colab_type": "code",
        "outputId": "e42e56bc-9b62-4be0-9059-55dba51ab622",
        "colab": {
          "base_uri": "https://localhost:8080/",
          "height": 195
        }
      },
      "source": [
        "newDf.sort_values(by=\"Male\", inplace=True, ascending= False)\n",
        "newDf.rename(index={2:1, 4:2, 0:3, 1:4, 3:5}, inplace= True)\n",
        "newDf"
      ],
      "execution_count": 96,
      "outputs": [
        {
          "output_type": "execute_result",
          "data": {
            "text/html": [
              "<div>\n",
              "<style scoped>\n",
              "    .dataframe tbody tr th:only-of-type {\n",
              "        vertical-align: middle;\n",
              "    }\n",
              "\n",
              "    .dataframe tbody tr th {\n",
              "        vertical-align: top;\n",
              "    }\n",
              "\n",
              "    .dataframe thead th {\n",
              "        text-align: right;\n",
              "    }\n",
              "</style>\n",
              "<table border=\"1\" class=\"dataframe\">\n",
              "  <thead>\n",
              "    <tr style=\"text-align: right;\">\n",
              "      <th></th>\n",
              "      <th>Race</th>\n",
              "      <th>Male</th>\n",
              "      <th>Female</th>\n",
              "    </tr>\n",
              "  </thead>\n",
              "  <tbody>\n",
              "    <tr>\n",
              "      <th>5</th>\n",
              "      <td>group C</td>\n",
              "      <td>180</td>\n",
              "      <td>139</td>\n",
              "    </tr>\n",
              "    <tr>\n",
              "      <th>2</th>\n",
              "      <td>group D</td>\n",
              "      <td>133</td>\n",
              "      <td>129</td>\n",
              "    </tr>\n",
              "    <tr>\n",
              "      <th>1</th>\n",
              "      <td>group B</td>\n",
              "      <td>104</td>\n",
              "      <td>86</td>\n",
              "    </tr>\n",
              "    <tr>\n",
              "      <th>5</th>\n",
              "      <td>group E</td>\n",
              "      <td>71</td>\n",
              "      <td>69</td>\n",
              "    </tr>\n",
              "    <tr>\n",
              "      <th>4</th>\n",
              "      <td>group A</td>\n",
              "      <td>53</td>\n",
              "      <td>36</td>\n",
              "    </tr>\n",
              "  </tbody>\n",
              "</table>\n",
              "</div>"
            ],
            "text/plain": [
              "      Race  Male  Female\n",
              "5  group C   180     139\n",
              "2  group D   133     129\n",
              "1  group B   104      86\n",
              "5  group E    71      69\n",
              "4  group A    53      36"
            ]
          },
          "metadata": {
            "tags": []
          },
          "execution_count": 96
        }
      ]
    },
    {
      "cell_type": "code",
      "metadata": {
        "id": "WRHdqcZ0c9EA",
        "colab_type": "code",
        "colab": {}
      },
      "source": [
        "gender= pd.Series(['Male', 'Female'])\n"
      ],
      "execution_count": 0,
      "outputs": []
    },
    {
      "cell_type": "code",
      "metadata": {
        "id": "UcOhv__lgC0b",
        "colab_type": "code",
        "outputId": "5790223f-eb96-4e20-b024-45ec152cd4f3",
        "colab": {
          "base_uri": "https://localhost:8080/",
          "height": 34
        }
      },
      "source": [
        "male= [i for i in newDf['Male']]\n",
        "female= [i for i in newDf['Female']]\n",
        "newDf.shape[0]"
      ],
      "execution_count": 98,
      "outputs": [
        {
          "output_type": "execute_result",
          "data": {
            "text/plain": [
              "5"
            ]
          },
          "metadata": {
            "tags": []
          },
          "execution_count": 98
        }
      ]
    },
    {
      "cell_type": "code",
      "metadata": {
        "id": "aKoh-zSUGKwi",
        "colab_type": "code",
        "outputId": "0e89136f-5f1c-4bfd-e6b7-c069769ab85d",
        "colab": {
          "base_uri": "https://localhost:8080/",
          "height": 34
        }
      },
      "source": [
        "female"
      ],
      "execution_count": 99,
      "outputs": [
        {
          "output_type": "execute_result",
          "data": {
            "text/plain": [
              "[139, 129, 86, 69, 36]"
            ]
          },
          "metadata": {
            "tags": []
          },
          "execution_count": 99
        }
      ]
    },
    {
      "cell_type": "code",
      "metadata": {
        "id": "gBygzKsQZNAp",
        "colab_type": "code",
        "outputId": "4d1ac779-eead-4c9d-ff99-e106926f8abe",
        "colab": {
          "base_uri": "https://localhost:8080/",
          "height": 513
        }
      },
      "source": [
        "male= [i for i in newDf['Male']]\n",
        "female= [i for i in newDf['Female']]\n",
        "color= ['red', 'blue', 'green', 'magenta', 'orange']\n",
        "labels= ['Group A', 'Group B', 'Group C', 'Group D', 'Group E']\n",
        "n= newDf.shape[0]\n",
        "plt.figure(figsize=(10,8))  \n",
        "\n",
        "for i in range(n):\n",
        "  plt.bar(gender[0],male[i], color= color[i], width= 0.4)\n",
        "  plt.bar(gender[1],female[i], color= color[i], label= labels[i], width= 0.4)\n",
        "\n",
        "plt.title(\"Bar Graph: Race/Ethnicity on the basis of Gender\")\n",
        "plt.ylabel(\"No. of persons in specific Race/Ethnicity\")\n",
        "plt.xlabel(\"Gender\")\n",
        "plt.legend()\n",
        "plt.show()"
      ],
      "execution_count": 100,
      "outputs": [
        {
          "output_type": "display_data",
          "data": {
            "image/png": "[encoded data removed]",
            "text/plain": [
              "<Figure size 720x576 with 1 Axes>"
            ]
          },
          "metadata": {
            "tags": [],
            "needs_background": "light"
          }
        }
      ]
    },
    {
      "cell_type": "code",
      "metadata": {
        "id": "HmDCFt6_ZjKb",
        "colab_type": "code",
        "colab": {}
      },
      "source": [
        "\n"
      ],
      "execution_count": 0,
      "outputs": []
    },
    {
      "cell_type": "markdown",
      "metadata": {
        "id": "bkhxS052wntI",
        "colab_type": "text"
      },
      "source": [
        "## Graph-3"
      ]
    },
    {
      "cell_type": "code",
      "metadata": {
        "id": "XTqbj5NFn_UI",
        "colab_type": "code",
        "colab": {
          "base_uri": "https://localhost:8080/",
          "height": 134
        },
        "outputId": "a8bc16a8-245f-4431-ced2-9ea77120ccb3"
      },
      "source": [
        "df['ParentalEducation'].value_counts()"
      ],
      "execution_count": 101,
      "outputs": [
        {
          "output_type": "execute_result",
          "data": {
            "text/plain": [
              "some college          226\n",
              "associate's degree    222\n",
              "high school           196\n",
              "some high school      179\n",
              "bachelor's degree     118\n",
              "master's degree        59\n",
              "Name: ParentalEducation, dtype: int64"
            ]
          },
          "metadata": {
            "tags": []
          },
          "execution_count": 101
        }
      ]
    },
    {
      "cell_type": "code",
      "metadata": {
        "id": "vt5L31tyzMig",
        "colab_type": "code",
        "colab": {
          "base_uri": "https://localhost:8080/",
          "height": 225
        },
        "outputId": "c064c859-c099-4a8d-d83e-e46173ea80fa"
      },
      "source": [
        "x= pd.DataFrame(df['ParentalEducation'].unique())\n",
        "x.rename(columns= {0:'ParentalEducation'}, inplace=True)\n",
        "x"
      ],
      "execution_count": 102,
      "outputs": [
        {
          "output_type": "execute_result",
          "data": {
            "text/html": [
              "<div>\n",
              "<style scoped>\n",
              "    .dataframe tbody tr th:only-of-type {\n",
              "        vertical-align: middle;\n",
              "    }\n",
              "\n",
              "    .dataframe tbody tr th {\n",
              "        vertical-align: top;\n",
              "    }\n",
              "\n",
              "    .dataframe thead th {\n",
              "        text-align: right;\n",
              "    }\n",
              "</style>\n",
              "<table border=\"1\" class=\"dataframe\">\n",
              "  <thead>\n",
              "    <tr style=\"text-align: right;\">\n",
              "      <th></th>\n",
              "      <th>ParentalEducation</th>\n",
              "    </tr>\n",
              "  </thead>\n",
              "  <tbody>\n",
              "    <tr>\n",
              "      <th>0</th>\n",
              "      <td>bachelor's degree</td>\n",
              "    </tr>\n",
              "    <tr>\n",
              "      <th>1</th>\n",
              "      <td>some college</td>\n",
              "    </tr>\n",
              "    <tr>\n",
              "      <th>2</th>\n",
              "      <td>master's degree</td>\n",
              "    </tr>\n",
              "    <tr>\n",
              "      <th>3</th>\n",
              "      <td>associate's degree</td>\n",
              "    </tr>\n",
              "    <tr>\n",
              "      <th>4</th>\n",
              "      <td>high school</td>\n",
              "    </tr>\n",
              "    <tr>\n",
              "      <th>5</th>\n",
              "      <td>some high school</td>\n",
              "    </tr>\n",
              "  </tbody>\n",
              "</table>\n",
              "</div>"
            ],
            "text/plain": [
              "    ParentalEducation\n",
              "0   bachelor's degree\n",
              "1        some college\n",
              "2     master's degree\n",
              "3  associate's degree\n",
              "4         high school\n",
              "5    some high school"
            ]
          },
          "metadata": {
            "tags": []
          },
          "execution_count": 102
        }
      ]
    },
    {
      "cell_type": "code",
      "metadata": {
        "id": "wjmbjBfGx6la",
        "colab_type": "code",
        "colab": {
          "base_uri": "https://localhost:8080/",
          "height": 34
        },
        "outputId": "c815c6f7-78df-42a9-c2ac-62b5569a7976"
      },
      "source": [
        "lst= [list ( df.loc[df.ParentalEducation==r,'Gender'].value_counts() ) for r in x['ParentalEducation'] ]\n",
        "lst"
      ],
      "execution_count": 114,
      "outputs": [
        {
          "output_type": "execute_result",
          "data": {
            "text/plain": [
              "[[63, 55], [118, 108], [36, 23], [116, 106], [102, 94], [91, 88]]"
            ]
          },
          "metadata": {
            "tags": []
          },
          "execution_count": 114
        }
      ]
    },
    {
      "cell_type": "code",
      "metadata": {
        "id": "6w0ioi5w0Mrj",
        "colab_type": "code",
        "colab": {
          "base_uri": "https://localhost:8080/",
          "height": 225
        },
        "outputId": "2d4c4bf5-54f9-4157-bedf-383bab5be8ee"
      },
      "source": [
        "y= pd.DataFrame(lst)\n",
        "y.rename(columns= {0:'Male', 1:'Female'}, inplace=True)\n",
        "y"
      ],
      "execution_count": 115,
      "outputs": [
        {
          "output_type": "execute_result",
          "data": {
            "text/html": [
              "<div>\n",
              "<style scoped>\n",
              "    .dataframe tbody tr th:only-of-type {\n",
              "        vertical-align: middle;\n",
              "    }\n",
              "\n",
              "    .dataframe tbody tr th {\n",
              "        vertical-align: top;\n",
              "    }\n",
              "\n",
              "    .dataframe thead th {\n",
              "        text-align: right;\n",
              "    }\n",
              "</style>\n",
              "<table border=\"1\" class=\"dataframe\">\n",
              "  <thead>\n",
              "    <tr style=\"text-align: right;\">\n",
              "      <th></th>\n",
              "      <th>Male</th>\n",
              "      <th>Female</th>\n",
              "    </tr>\n",
              "  </thead>\n",
              "  <tbody>\n",
              "    <tr>\n",
              "      <th>0</th>\n",
              "      <td>63</td>\n",
              "      <td>55</td>\n",
              "    </tr>\n",
              "    <tr>\n",
              "      <th>1</th>\n",
              "      <td>118</td>\n",
              "      <td>108</td>\n",
              "    </tr>\n",
              "    <tr>\n",
              "      <th>2</th>\n",
              "      <td>36</td>\n",
              "      <td>23</td>\n",
              "    </tr>\n",
              "    <tr>\n",
              "      <th>3</th>\n",
              "      <td>116</td>\n",
              "      <td>106</td>\n",
              "    </tr>\n",
              "    <tr>\n",
              "      <th>4</th>\n",
              "      <td>102</td>\n",
              "      <td>94</td>\n",
              "    </tr>\n",
              "    <tr>\n",
              "      <th>5</th>\n",
              "      <td>91</td>\n",
              "      <td>88</td>\n",
              "    </tr>\n",
              "  </tbody>\n",
              "</table>\n",
              "</div>"
            ],
            "text/plain": [
              "   Male  Female\n",
              "0    63      55\n",
              "1   118     108\n",
              "2    36      23\n",
              "3   116     106\n",
              "4   102      94\n",
              "5    91      88"
            ]
          },
          "metadata": {
            "tags": []
          },
          "execution_count": 115
        }
      ]
    },
    {
      "cell_type": "code",
      "metadata": {
        "id": "Pqx_I3ug6jag",
        "colab_type": "code",
        "colab": {
          "base_uri": "https://localhost:8080/",
          "height": 67
        },
        "outputId": "a4db5eb9-16c2-48df-9fe3-d7024b5c8151"
      },
      "source": [
        "gender"
      ],
      "execution_count": 120,
      "outputs": [
        {
          "output_type": "execute_result",
          "data": {
            "text/plain": [
              "0      Male\n",
              "1    Female\n",
              "dtype: object"
            ]
          },
          "metadata": {
            "tags": []
          },
          "execution_count": 120
        }
      ]
    },
    {
      "cell_type": "code",
      "metadata": {
        "id": "EW06T7Q30vge",
        "colab_type": "code",
        "colab": {
          "base_uri": "https://localhost:8080/",
          "height": 225
        },
        "outputId": "22d919ef-45a2-4cfc-f169-df6a4d6b2817"
      },
      "source": [
        "z= pd.concat([x,y], axis=1)\n",
        "z.sort_values(by=\"Male\", inplace=True, ascending=False)\n",
        "z.rename(index={1:1, 3:2, 4:3, 5:4, 0:5, 2:6}, inplace= True)\n",
        "z"
      ],
      "execution_count": 121,
      "outputs": [
        {
          "output_type": "execute_result",
          "data": {
            "text/html": [
              "<div>\n",
              "<style scoped>\n",
              "    .dataframe tbody tr th:only-of-type {\n",
              "        vertical-align: middle;\n",
              "    }\n",
              "\n",
              "    .dataframe tbody tr th {\n",
              "        vertical-align: top;\n",
              "    }\n",
              "\n",
              "    .dataframe thead th {\n",
              "        text-align: right;\n",
              "    }\n",
              "</style>\n",
              "<table border=\"1\" class=\"dataframe\">\n",
              "  <thead>\n",
              "    <tr style=\"text-align: right;\">\n",
              "      <th></th>\n",
              "      <th>ParentalEducation</th>\n",
              "      <th>Male</th>\n",
              "      <th>Female</th>\n",
              "    </tr>\n",
              "  </thead>\n",
              "  <tbody>\n",
              "    <tr>\n",
              "      <th>1</th>\n",
              "      <td>some college</td>\n",
              "      <td>118</td>\n",
              "      <td>108</td>\n",
              "    </tr>\n",
              "    <tr>\n",
              "      <th>2</th>\n",
              "      <td>associate's degree</td>\n",
              "      <td>116</td>\n",
              "      <td>106</td>\n",
              "    </tr>\n",
              "    <tr>\n",
              "      <th>3</th>\n",
              "      <td>high school</td>\n",
              "      <td>102</td>\n",
              "      <td>94</td>\n",
              "    </tr>\n",
              "    <tr>\n",
              "      <th>4</th>\n",
              "      <td>some high school</td>\n",
              "      <td>91</td>\n",
              "      <td>88</td>\n",
              "    </tr>\n",
              "    <tr>\n",
              "      <th>5</th>\n",
              "      <td>bachelor's degree</td>\n",
              "      <td>63</td>\n",
              "      <td>55</td>\n",
              "    </tr>\n",
              "    <tr>\n",
              "      <th>6</th>\n",
              "      <td>master's degree</td>\n",
              "      <td>36</td>\n",
              "      <td>23</td>\n",
              "    </tr>\n",
              "  </tbody>\n",
              "</table>\n",
              "</div>"
            ],
            "text/plain": [
              "    ParentalEducation  Male  Female\n",
              "1        some college   118     108\n",
              "2  associate's degree   116     106\n",
              "3         high school   102      94\n",
              "4    some high school    91      88\n",
              "5   bachelor's degree    63      55\n",
              "6     master's degree    36      23"
            ]
          },
          "metadata": {
            "tags": []
          },
          "execution_count": 121
        }
      ]
    },
    {
      "cell_type": "code",
      "metadata": {
        "id": "VF1Ro5mQ1AiE",
        "colab_type": "code",
        "colab": {
          "base_uri": "https://localhost:8080/",
          "height": 513
        },
        "outputId": "1c2fa837-7adb-4222-e3c7-7c53b8a49c9d"
      },
      "source": [
        "peMale= [i for i in z['Male']]\n",
        "peFemale= [i for i in z['Female']]\n",
        "color= ['#fcbf1e', '#142850', '#30475e', '#035aa6','#40bad5', '#00909e', '#dae1e7']\n",
        "labels= ['Some College', \"Associate's Degree\", 'High School', 'Some High School', \"Bachelor's Degree\", \"Master's Degree\"]\n",
        "n= z.shape[0]\n",
        "plt.figure(figsize=(10,8))  \n",
        "\n",
        "for i in range(n):\n",
        "  plt.bar(gender[0], peMale[i], color= color[i], width= 0.4)\n",
        "  plt.bar(gender[1], peFemale[i], color= color[i], label= labels[i], width= 0.4)\n",
        "\n",
        "plt.title(\"Bar Graph: Educational Qualification of Parents on the basis of Gender\")\n",
        "plt.ylabel(\"No. of Parents\")\n",
        "plt.xlabel(\"Gender\")\n",
        "plt.legend()\n",
        "plt.show()"
      ],
      "execution_count": 140,
      "outputs": [
        {
          "output_type": "display_data",
          "data": {
            "image/png": "[encoded data removed]",
            "text/plain": [
              "<Figure size 720x576 with 1 Axes>"
            ]
          },
          "metadata": {
            "tags": [],
            "needs_background": "light"
          }
        }
      ]
    },
    {
      "cell_type": "code",
      "metadata": {
        "id": "GzSfwDr9-lI5",
        "colab_type": "code",
        "colab": {}
      },
      "source": [
        ""
      ],
      "execution_count": 0,
      "outputs": []
    }
  ]
}